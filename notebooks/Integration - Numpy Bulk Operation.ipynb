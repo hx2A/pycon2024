{
 "cells": [
  {
   "cell_type": "markdown",
   "id": "a400fa42-0cc3-491f-9869-50502cd8ea65",
   "metadata": {},
   "source": [
    "# Experiment with Vectorized drawing commands\n",
    "\n",
    "* Bulk drawing commands with numpy arrays\n",
    "* Built-in `line-profiler` support"
   ]
  },
  {
   "cell_type": "code",
   "execution_count": null,
   "id": "6620d1c9-4cae-441d-8fd6-cb48ad536271",
   "metadata": {},
   "outputs": [],
   "source": [
    "# the following code is necessary for MacOS users\n",
    "import sys\n",
    "\n",
    "if sys.platform == 'darwin':\n",
    "    # Equivalent to `%gui osx`\n",
    "    get_ipython().run_line_magic('gui', 'osx')"
   ]
  },
  {
   "cell_type": "code",
   "execution_count": null,
   "id": "1a51472b-8ffe-46d1-9e70-4ffd6202a1e8",
   "metadata": {},
   "outputs": [],
   "source": [
    "import numpy as np\n",
    "\n",
    "import py5"
   ]
  },
  {
   "cell_type": "markdown",
   "id": "68c9a1a7-991f-49e2-a99e-d431a14a0320",
   "metadata": {},
   "source": [
    "First, use numpy to do the calculations for a spiral"
   ]
  },
  {
   "cell_type": "code",
   "execution_count": null,
   "id": "f560ea66-7d11-428f-8594-9e015ddf5ca2",
   "metadata": {},
   "outputs": [],
   "source": [
    "INNER_RADIUS = 10\n",
    "OUTER_RADIUS = 350\n",
    "ROTATION_COUNT = 10\n",
    "STEPS_PER_ROTATION = 500\n",
    "STEPS = ROTATION_COUNT * STEPS_PER_ROTATION\n",
    "\n",
    "# angles of all of the vertices in radians\n",
    "angles = np.radians(np.arange(0, STEPS) % 360)\n",
    "\n",
    "# radii of all of the vertices from the center\n",
    "radii = np.linspace(INNER_RADIUS, OUTER_RADIUS, STEPS)\n",
    "\n",
    "# x and y coordinates of vertices\n",
    "xvals = radii * np.cos(angles)\n",
    "yvals = radii * np.sin(angles)\n",
    "\n",
    "# assemble x and y coordinates into one array\n",
    "coordinates = np.stack([xvals, yvals], axis=1)"
   ]
  },
  {
   "cell_type": "markdown",
   "id": "5abf5561-ec4a-472a-ae19-63ae62d3b748",
   "metadata": {},
   "source": [
    "Sketch code for rotating spiral:"
   ]
  },
  {
   "cell_type": "code",
   "execution_count": null,
   "id": "f36ba474-0268-4b77-9aa4-22acaa473624",
   "metadata": {},
   "outputs": [],
   "source": [
    "def setup():\n",
    "    py5.size(750, 750, py5.P2D)\n",
    "    py5.stroke_weight(10)\n",
    "    py5.no_fill()\n",
    "    py5.get_surface().set_always_on_top(True)\n",
    "    py5.text_align(py5.CENTER, py5.CENTER)\n",
    "    py5.text_size(20)\n",
    "\n",
    "\n",
    "def draw():\n",
    "    py5.background(\"white\")\n",
    "    py5.translate(py5.width / 2, py5.height / 2)\n",
    "    py5.rotate(py5.radians(2 * py5.frame_count))\n",
    "\n",
    "    with py5.begin_shape():\n",
    "        # *** bulk drawing command ***\n",
    "        py5.vertices(coordinates)"
   ]
  },
  {
   "cell_type": "code",
   "execution_count": null,
   "id": "8a782acf-90c2-4cc9-8685-b22607e071e3",
   "metadata": {},
   "outputs": [],
   "source": [
    "py5.run_sketch()"
   ]
  },
  {
   "cell_type": "markdown",
   "id": "35b84c26-07e0-4dfc-9bdc-affbe99e0fc1",
   "metadata": {},
   "source": [
    "How fast is the call to `py5.vertices()`?\n",
    "\n",
    "Let's use `line_profiler` to find out. No need to fuss with decorators, support for `line_profiler` is built in to the library."
   ]
  },
  {
   "cell_type": "code",
   "execution_count": null,
   "id": "40b2572c-921d-4761-97a5-cf99ea17b2de",
   "metadata": {},
   "outputs": [],
   "source": [
    "py5.profile_draw()"
   ]
  },
  {
   "cell_type": "code",
   "execution_count": null,
   "id": "0869d5f3-c08d-4266-86b8-d56816998428",
   "metadata": {},
   "outputs": [],
   "source": [
    "py5.print_line_profiler_stats()"
   ]
  },
  {
   "cell_type": "markdown",
   "id": "48c0fb50-3bfc-484c-82ab-ba78366e7cf5",
   "metadata": {},
   "source": [
    "It's about 9.5 ms per call to `py5.vertices()`.\n",
    "\n",
    "But how much does this matter? What if we used a `for` loop?"
   ]
  },
  {
   "cell_type": "code",
   "execution_count": null,
   "id": "7e3786af-5878-40ee-8dba-23248ddc11af",
   "metadata": {},
   "outputs": [],
   "source": [
    "def draw():\n",
    "    py5.background(\"white\")\n",
    "    py5.translate(py5.width / 2, py5.height / 2)\n",
    "    py5.rotate(py5.radians(5 * py5.frame_count))\n",
    "\n",
    "    # with py5.begin_shape():\n",
    "    #     # *** bulk drawing command ***\n",
    "    #     py5.vertices(coordinates)\n",
    "\n",
    "    with py5.begin_shape():\n",
    "        # *** use `for` loop instead ***\n",
    "        for i in range(STEPS):\n",
    "            py5.vertex(coordinates[i, 0], coordinates[i, 1])"
   ]
  },
  {
   "cell_type": "code",
   "execution_count": null,
   "id": "cc4415cf-76f8-44f6-82e6-7e9d10c5062f",
   "metadata": {},
   "outputs": [],
   "source": [
    "py5.run_sketch()"
   ]
  },
  {
   "cell_type": "code",
   "execution_count": null,
   "id": "91f258cb-de4d-413d-b2b7-d97c6d6c45a8",
   "metadata": {},
   "outputs": [],
   "source": [
    "py5.profile_draw()"
   ]
  },
  {
   "cell_type": "code",
   "execution_count": null,
   "id": "b9fd8c84-834c-4372-9103-009a1c1d42d8",
   "metadata": {},
   "outputs": [],
   "source": [
    "py5.print_line_profiler_stats()"
   ]
  },
  {
   "cell_type": "code",
   "execution_count": null,
   "id": "b97b56bb-45cc-494d-8a63-6a74420e7e49",
   "metadata": {},
   "outputs": [],
   "source": [
    "(4112 + 388) * STEPS / 1e6"
   ]
  },
  {
   "cell_type": "markdown",
   "id": "32786a79-5181-4112-803f-543465ff388e",
   "metadata": {},
   "source": [
    "# Summary\n",
    "\n",
    "* py5 has extra drawing methods to operate on numpy arrays\n",
    "* built-in `line_profiler` support helps pinpoint performance problems"
   ]
  },
  {
   "cell_type": "code",
   "execution_count": null,
   "id": "21be2639-1376-4dd2-9d2d-3e9c16a1acd5",
   "metadata": {},
   "outputs": [],
   "source": []
  }
 ],
 "metadata": {
  "kernelspec": {
   "display_name": "Python 3 (ipykernel)",
   "language": "python",
   "name": "python3"
  },
  "language_info": {
   "codemirror_mode": {
    "name": "ipython",
    "version": 3
   },
   "file_extension": ".py",
   "mimetype": "text/x-python",
   "name": "python",
   "nbconvert_exporter": "python",
   "pygments_lexer": "ipython3",
   "version": "3.8.17"
  }
 },
 "nbformat": 4,
 "nbformat_minor": 5
}
