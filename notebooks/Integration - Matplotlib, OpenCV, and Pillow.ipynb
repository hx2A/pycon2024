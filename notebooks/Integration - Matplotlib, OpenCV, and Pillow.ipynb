{
 "cells": [
  {
   "cell_type": "markdown",
   "id": "4cc14369-8f0d-41e5-89ba-c400e6b9abde",
   "metadata": {},
   "source": [
    "# Experiment with Matplotlib, OpenCV, and Pillow\n",
    "\n",
    "* Use inputs from matplotlib, OpenCV, and Pillow as texture maps in a 3D Sketch\n",
    "* Easily convert Pillow images, matplotlib figures, and numpy arrays to Py5Image objects"
   ]
  },
  {
   "cell_type": "code",
   "execution_count": null,
   "id": "b1f3852d-9107-449a-8d22-744ed95585cd",
   "metadata": {},
   "outputs": [],
   "source": [
    "# the following code is necessary for MacOS users\n",
    "import sys\n",
    "\n",
    "if sys.platform == 'darwin':\n",
    "    # Equivalent to `%gui osx`\n",
    "    get_ipython().run_line_magic('gui', 'osx')"
   ]
  },
  {
   "cell_type": "code",
   "execution_count": null,
   "id": "f14c33a8-99c9-4de9-aefa-0d3d3f13bdae",
   "metadata": {},
   "outputs": [],
   "source": [
    "from collections import deque\n",
    "\n",
    "import cv2\n",
    "import matplotlib\n",
    "import matplotlib.pyplot as plt\n",
    "from PIL import Image\n",
    "\n",
    "import py5"
   ]
  },
  {
   "cell_type": "code",
   "execution_count": null,
   "id": "b0b84891-901b-4a34-bb59-091c51525620",
   "metadata": {},
   "outputs": [],
   "source": [
    "CUBE_SIZE = 175"
   ]
  },
  {
   "cell_type": "markdown",
   "id": "3b4bfe61-7482-4feb-9f11-8e2b51ec8065",
   "metadata": {},
   "source": [
    "# Load py5 Logo with Pillow"
   ]
  },
  {
   "cell_type": "code",
   "execution_count": null,
   "id": "1bb90697-e89e-4c71-a9a7-b0216dbb584f",
   "metadata": {},
   "outputs": [],
   "source": [
    "logo_image = Image.open(\"data/logo.jpg\")\n"
   ]
  },
  {
   "cell_type": "markdown",
   "id": "104a6f93-dfc0-414d-8c8f-60f83b650e13",
   "metadata": {},
   "source": [
    "# Code to Plot Sketch frame_rate with matplotlib"
   ]
  },
  {
   "cell_type": "code",
   "execution_count": null,
   "id": "c90fc438-eda5-4a98-ae39-2a38efdee488",
   "metadata": {},
   "outputs": [],
   "source": [
    "matplotlib.use('agg')\n",
    "matplotlib.style.use(['ggplot', 'fast'])"
   ]
  },
  {
   "cell_type": "code",
   "execution_count": null,
   "id": "1b2721c1-fd68-402f-9d33-43c80432eb53",
   "metadata": {},
   "outputs": [],
   "source": [
    "frame_rates = deque([60] * 250, maxlen=250)\n",
    "\n",
    "\n",
    "def create_chart(frame_rates):\n",
    "    figure, ax1 = plt.subplots(1, 1, figsize=(5, 5))\n",
    "    (line,) = ax1.plot(range(-len(frame_rates), 0), frame_rates)\n",
    "    ax1.set_ylim(0, 70)\n",
    "    ax1.set_xlabel(\"framerate observations\")\n",
    "    ax1.set_ylabel(\"framerate per second\")\n",
    "    ax1.set_title(\"py5 sketch framerate\")\n",
    "\n",
    "    return figure, line\n",
    "\n",
    "\n",
    "def update_chart(frame_rates, line, figure, chart):\n",
    "    # update line object in existing figure\n",
    "    # this is much faster than creating a new figure each time\n",
    "    line.set_ydata(frame_rates)\n",
    "    py5.convert_image(figure, dst=chart)\n"
   ]
  },
  {
   "cell_type": "markdown",
   "id": "4805ef5f-54c0-4a36-8248-448030c2a45c",
   "metadata": {},
   "source": [
    "# Read Webcam with OpenCV"
   ]
  },
  {
   "cell_type": "code",
   "execution_count": null,
   "id": "6e08e343-a1d7-4a32-a32d-d291f3a074d2",
   "metadata": {},
   "outputs": [],
   "source": [
    "cap = cv2.VideoCapture(0)\n",
    "webcam_image = None\n",
    "\n",
    "\n",
    "def read_webcam():\n",
    "    global webcam_image\n",
    "    ret, frame = cap.read()\n",
    "    if frame is not None:\n",
    "        # center crop\n",
    "        h, w, _ = frame.shape\n",
    "        d = (w - h) // 2\n",
    "        frame2 = frame[:, d : (w - d), ::-1].copy()\n",
    "\n",
    "        if webcam_image is None:\n",
    "            # create new webcam_image object\n",
    "            webcam_image = py5.create_image_from_numpy(frame2, bands=\"RGB\")\n",
    "        else:\n",
    "            # recycle webcam_image object\n",
    "            webcam_image.np_pixels[:, :, 1:] = frame2\n",
    "            webcam_image.update_np_pixels()\n"
   ]
  },
  {
   "cell_type": "markdown",
   "id": "5550b97f-169d-4daa-8477-1ab0ec7a750b",
   "metadata": {},
   "source": [
    "# Sketch Code"
   ]
  },
  {
   "cell_type": "code",
   "execution_count": null,
   "id": "c02bf57b-284d-4ff9-866b-88ffddd67dcc",
   "metadata": {},
   "outputs": [],
   "source": [
    "def draw_cube_face(img, x, y, z):\n",
    "    with py5.push_matrix():\n",
    "        py5.rotate_x(py5.radians(x))\n",
    "        py5.rotate_y(py5.radians(y))\n",
    "        py5.rotate_z(py5.radians(z))\n",
    "\n",
    "        with py5.begin_shape():\n",
    "            py5.texture(img)\n",
    "            py5.vertex(-CUBE_SIZE, -CUBE_SIZE, CUBE_SIZE, 0, 0)\n",
    "            py5.vertex(CUBE_SIZE, -CUBE_SIZE, CUBE_SIZE, 1, 0)\n",
    "            py5.vertex(CUBE_SIZE, CUBE_SIZE, CUBE_SIZE, 1, 1)\n",
    "            py5.vertex(-CUBE_SIZE, CUBE_SIZE, CUBE_SIZE, 0, 1)\n"
   ]
  },
  {
   "cell_type": "code",
   "execution_count": null,
   "id": "8d99db78-5145-48cf-8204-d85d3076be4b",
   "metadata": {},
   "outputs": [],
   "source": [
    "x_rot = 0\n",
    "y_rot = 0\n",
    "z_rot = 0\n",
    "\n",
    "\n",
    "def setup():\n",
    "    global chart, logo\n",
    "    py5.size(750, 750, py5.P3D)\n",
    "    py5.rect_mode(py5.CENTER)\n",
    "    py5.no_stroke()\n",
    "    py5.texture_mode(py5.NORMAL)\n",
    "    py5.get_surface().set_always_on_top(True)\n",
    "\n",
    "    # prepare logo\n",
    "    logo = py5.convert_image(logo_image)\n",
    "\n",
    "    # prepare chart\n",
    "    figure, line = create_chart(frame_rates)\n",
    "    chart = py5.convert_image(figure)\n",
    "    # start chart update thread\n",
    "    py5.launch_repeating_thread(update_chart, args=(frame_rates, line, figure, chart))\n",
    "\n",
    "    # start webcam thread\n",
    "    py5.launch_repeating_thread(read_webcam, name=\"webcam\")\n",
    "\n",
    "\n",
    "def draw():\n",
    "    global x_rot, y_rot, z_rot\n",
    "\n",
    "    x_rot += 0.4\n",
    "    y_rot += 0.5\n",
    "    z_rot += 0.6\n",
    "\n",
    "    # record new frame_rate observation\n",
    "    frame_rates.append(py5.get_frame_rate())\n",
    "\n",
    "    py5.background(0)\n",
    "\n",
    "    py5.translate(py5.width / 2, py5.height / 2, 0)\n",
    "    py5.rotate_x(py5.radians(x_rot))\n",
    "    py5.rotate_y(py5.radians(y_rot))\n",
    "    py5.rotate_z(py5.radians(z_rot))\n",
    "\n",
    "    draw_cube_face(webcam_image, 0, 0, 0)\n",
    "    draw_cube_face(webcam_image, 0, 180, 0)\n",
    "    draw_cube_face(chart, 0, 90, 0)\n",
    "    draw_cube_face(chart, 0, 270, 0)\n",
    "    draw_cube_face(chart, 90, 0, 0)\n",
    "    draw_cube_face(logo, -90, 0, 0)\n",
    "\n",
    "\n",
    "def exiting():\n",
    "    # always release the webcam!\n",
    "    cap.release()\n"
   ]
  },
  {
   "cell_type": "code",
   "execution_count": null,
   "id": "515233ea-e940-492f-b948-06a3f9b651ed",
   "metadata": {},
   "outputs": [],
   "source": [
    "py5.run_sketch()\n"
   ]
  },
  {
   "cell_type": "markdown",
   "id": "7444032c-8759-4e9a-b51a-a2a4ca8523de",
   "metadata": {},
   "source": [
    "# Summary\n",
    "\n",
    "* py5 can easily convert matplotlib figures, Pillow Images, and numpy arrays to image objects it can use for any Sketch\n",
    "* py5 has builtin support for launching threads, aiding Sketch performance\n",
    "* Putting slow or potentially blocking code in separate threads is important for achieving a good frame rate\n",
    "* Demoing silly examples at PyCon makes presenting more fun"
   ]
  },
  {
   "cell_type": "code",
   "execution_count": null,
   "id": "c21896a6-ca0f-4a57-8902-ae65669310de",
   "metadata": {},
   "outputs": [],
   "source": []
  }
 ],
 "metadata": {
  "kernelspec": {
   "display_name": "Python 3 (ipykernel)",
   "language": "python",
   "name": "python3"
  },
  "language_info": {
   "codemirror_mode": {
    "name": "ipython",
    "version": 3
   },
   "file_extension": ".py",
   "mimetype": "text/x-python",
   "name": "python",
   "nbconvert_exporter": "python",
   "pygments_lexer": "ipython3",
   "version": "3.8.17"
  }
 },
 "nbformat": 4,
 "nbformat_minor": 5
}
