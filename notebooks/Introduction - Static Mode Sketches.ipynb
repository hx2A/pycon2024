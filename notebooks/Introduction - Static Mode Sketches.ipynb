{
 "cells": [
  {
   "cell_type": "markdown",
   "id": "60083f88-b275-4e2e-b088-16d8130f1ed6",
   "metadata": {},
   "source": [
    "# Creating Static Images with py5bot"
   ]
  },
  {
   "cell_type": "markdown",
   "id": "ce8a03cf-9fa5-435a-b02a-e787cb608495",
   "metadata": {},
   "source": [
    "The `size()` method creates a blank canvas with a default backround color."
   ]
  },
  {
   "cell_type": "code",
   "execution_count": null,
   "id": "4ac7154f-9b20-4354-b99b-fb83acbe4dee",
   "metadata": {},
   "outputs": [],
   "source": [
    "size(250, 250)"
   ]
  },
  {
   "cell_type": "markdown",
   "id": "94d9554c-85f3-4fb1-a357-1772dab84a40",
   "metadata": {},
   "source": [
    "We can set the background color to something else with `background()` and 3 RGB values to specify the color."
   ]
  },
  {
   "cell_type": "code",
   "execution_count": null,
   "id": "1549e59c-6303-49a5-a6c0-5297531ab4ea",
   "metadata": {},
   "outputs": [],
   "source": [
    "size(250, 250)\n",
    "\n",
    "background(250, 250, 150)"
   ]
  },
  {
   "cell_type": "markdown",
   "id": "f148ffd4-a0b4-4daa-acd2-302d03205393",
   "metadata": {},
   "source": [
    "We can draw simple shapes, such as rectangles:"
   ]
  },
  {
   "cell_type": "code",
   "execution_count": null,
   "id": "99d66a87-8e17-44c9-a451-d4f3793d0c69",
   "metadata": {},
   "outputs": [],
   "source": [
    "size(250, 250)\n",
    "background(250, 250, 150)\n",
    "\n",
    "rect(20, 80, 50, 50)"
   ]
  },
  {
   "cell_type": "markdown",
   "id": "19e7e1df-1cd8-4087-9b46-7b6ca57be772",
   "metadata": {},
   "source": [
    "py5's coordinate system has the origin in the upper left corner of the drawing surface. The x coordinate goes to the right and the y coordinate goes down.\n",
    "\n",
    "The `rect()` method's parameters are the coordinates of the upper left corner and then the width and height of the rectangle. Use Jupyter's Contextual Help to see for yourself!"
   ]
  },
  {
   "cell_type": "code",
   "execution_count": null,
   "id": "721f5f70-d23d-4de7-863e-3304d75f2dd2",
   "metadata": {},
   "outputs": [],
   "source": [
    "size(250, 250)\n",
    "background(250, 250, 150)\n",
    "\n",
    "rect(50, 50, 150, 150)"
   ]
  },
  {
   "cell_type": "markdown",
   "id": "47d8d86c-f175-4166-8f6b-82e55d870cb0",
   "metadata": {},
   "source": [
    "We can change the thickness of the line with `stroke_weight()`."
   ]
  },
  {
   "cell_type": "code",
   "execution_count": null,
   "id": "9a81c35e-9e53-4d3c-bbfa-46f4bad3754c",
   "metadata": {},
   "outputs": [],
   "source": [
    "size(250, 250)\n",
    "background(250, 250, 150)\n",
    "\n",
    "stroke_weight(5)\n",
    "\n",
    "rect(50, 50, 150, 150)"
   ]
  },
  {
   "cell_type": "markdown",
   "id": "3a87ef01-854c-41b5-815f-8d8031e34e4f",
   "metadata": {},
   "source": [
    "We can change the fill and stoke colors of that rectangle with `fill()` and `stroke()`, respectively. We can also use \"named\" colors instead of RGB values. Any named color that matplotlib understands, py5 will understand."
   ]
  },
  {
   "cell_type": "code",
   "execution_count": null,
   "id": "e7e34409-d8c1-477d-9940-25dd382e8465",
   "metadata": {},
   "outputs": [],
   "source": [
    "size(250, 250)\n",
    "background(250, 250, 150)\n",
    "\n",
    "stroke_weight(5)\n",
    "fill(\"green\")\n",
    "stroke(\"blue\")\n",
    "\n",
    "rect(50, 50, 150, 150)"
   ]
  },
  {
   "cell_type": "markdown",
   "id": "1392248c-ccba-43d0-8a13-5d88b0464a30",
   "metadata": {},
   "source": [
    "Rather than expect you remember the names of matplotlib's colors, py5 has them built in.\n",
    "\n",
    "py5bot has proper tab completion for all of py5's methods and built-in variables. Use this to change the color to something else."
   ]
  },
  {
   "cell_type": "code",
   "execution_count": null,
   "id": "84cf3a2d-71cd-4958-89be-d1a87f6a8ab6",
   "metadata": {},
   "outputs": [],
   "source": [
    "size(250, 250)\n",
    "background(250, 250, 150)\n",
    "\n",
    "stroke_weight(5)\n",
    "fill(xkcd_colors.GREEN)\n",
    "stroke(css4_colors.BLUE)\n",
    "\n",
    "rect(50, 50, 150, 150)"
   ]
  },
  {
   "cell_type": "markdown",
   "id": "8ef1aed1-1507-479e-b722-3057ffa34494",
   "metadata": {},
   "source": [
    "py5bot (and all of py5) has helpful error messages. Observe what it does if there is a typo:"
   ]
  },
  {
   "cell_type": "code",
   "execution_count": null,
   "id": "06bb76ac-d67e-4646-8a92-6f56579b55fe",
   "metadata": {},
   "outputs": [],
   "source": [
    "size(250, 250)\n",
    "background(250, 250, 150)\n",
    "\n",
    "stroke_weight(5)\n",
    "fil(xkcd_colors.GREEN)\n",
    "stroke(css4_colors.BLUE)\n",
    "\n",
    "rect(50, 50, 150, 150)"
   ]
  },
  {
   "cell_type": "markdown",
   "id": "5d0cfc72-6596-4081-ba46-23033374b3ac",
   "metadata": {},
   "source": [
    "The error reporting is managed with the Python library `stackprinter`.\n",
    "\n",
    "Everything in py5 has complete docstrings and typehints."
   ]
  },
  {
   "cell_type": "markdown",
   "id": "b87d60a2-64fc-4b4e-96ef-248d6d26f70a",
   "metadata": {},
   "source": [
    "# Summary\n",
    "\n",
    "* py5 can let you create static images using a programming mode called \"static mode\"\n",
    "* Static mode sketches are executed in the py5bot Jupyter kernel or Thonny editor with py5 plugin.\n",
    "* py5 lets you focus your thoughts on your creative ideas without getting bogged down by how rectangles are drawn, etc."
   ]
  },
  {
   "cell_type": "code",
   "execution_count": null,
   "id": "8dad0959-4458-4820-8960-b05076403c8e",
   "metadata": {},
   "outputs": [],
   "source": []
  }
 ],
 "metadata": {
  "kernelspec": {
   "display_name": "py5bot",
   "language": "python",
   "name": "py5bot"
  },
  "language_info": {
   "codemirror_mode": {
    "name": "ipython",
    "version": 3
   },
   "file_extension": ".py",
   "mimetype": "text/x-python",
   "name": "python",
   "nbconvert_exporter": "python",
   "pygments_lexer": "ipython3",
   "version": "3.8.17"
  }
 },
 "nbformat": 4,
 "nbformat_minor": 5
}
