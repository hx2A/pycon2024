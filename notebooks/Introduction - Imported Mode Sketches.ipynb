{
 "cells": [
  {
   "cell_type": "markdown",
   "id": "32f9aa82-4eca-41ae-a5c1-eb772ed8df1a",
   "metadata": {},
   "source": [
    "# Creating Animations with py5\n",
    "\n",
    "Move the last example in the py5bot notebook to a `setup()` function and call `run_sketch()`.\n",
    "\n",
    "This is what py5bot was doing for us."
   ]
  },
  {
   "cell_type": "code",
   "execution_count": null,
   "id": "aeb9a890-4772-4670-8c1b-c0e53a20d53a",
   "metadata": {},
   "outputs": [],
   "source": [
    "def setup():\n",
    "    # also, increase the window size\n",
    "    # use P2D renderer to avoid a MacOS+Jupyter bug\n",
    "    size(500, 500, P2D)\n",
    "    background(250, 250, 150)\n",
    "\n",
    "    stroke_weight(5)\n",
    "    fill(xkcd_colors.GREEN)\n",
    "    stroke(css4_colors.BLUE)\n",
    "\n",
    "    rect(50, 50, 150, 150)"
   ]
  },
  {
   "cell_type": "code",
   "execution_count": null,
   "id": "eeb2f75c-da97-4583-9de9-f5be39197dbb",
   "metadata": {},
   "outputs": [],
   "source": [
    "run_sketch()"
   ]
  },
  {
   "cell_type": "markdown",
   "id": "0132d65f-9277-4ff3-9a3f-cc9118fa25b5",
   "metadata": {},
   "source": [
    "Now let's animate!! Add a `draw()` function to draw new rectangles based on the mouse position."
   ]
  },
  {
   "cell_type": "code",
   "execution_count": null,
   "id": "500b30e6-fa2c-407c-97da-fa1c4ce877bd",
   "metadata": {},
   "outputs": [],
   "source": [
    "def draw():\n",
    "    rect(mouse_x, mouse_y, 50, 50)\n"
   ]
  },
  {
   "cell_type": "code",
   "execution_count": null,
   "id": "3152f58e-4392-466e-b00d-2c2cab36a6ec",
   "metadata": {},
   "outputs": [],
   "source": [
    "run_sketch()"
   ]
  },
  {
   "cell_type": "markdown",
   "id": "4916553c-eb79-4c3d-b82b-42a8e6c81ad3",
   "metadata": {},
   "source": [
    "py5 can respond to mouse clicks. Let's pick a random fill color every time the user clicks their mouse and clear the drawing surface when the user hits a key."
   ]
  },
  {
   "cell_type": "code",
   "execution_count": null,
   "id": "cd94899d-f91d-423f-98c9-f5c71f1ffd6c",
   "metadata": {},
   "outputs": [],
   "source": [
    "def mouse_pressed():\n",
    "    fill(random(255), random(255), random(255))\n",
    "\n",
    "def key_pressed():\n",
    "    background(250, 250, 150)"
   ]
  },
  {
   "cell_type": "code",
   "execution_count": null,
   "id": "8b61b4ed-b182-49c3-9034-e20dc5636176",
   "metadata": {},
   "outputs": [],
   "source": [
    "run_sketch()"
   ]
  },
  {
   "cell_type": "markdown",
   "id": "540ea26e-0e53-4fe4-a778-2062e310e6a8",
   "metadata": {},
   "source": [
    "Finally, let's use `rect_mode()` so that `rect()` centers the rectangle instead of drawing from the corner. Also, remove the call to `rect()` in `setup()`.\n",
    "\n",
    "And for clarity, let's repeat the previously defined functions to see the entire Sketch together."
   ]
  },
  {
   "cell_type": "code",
   "execution_count": null,
   "id": "c2fbbee3-2f9d-45c7-8367-7746259b0964",
   "metadata": {},
   "outputs": [],
   "source": [
    "def setup():\n",
    "    size(500, 500, P2D)\n",
    "    background(250, 250, 150)\n",
    "    rect_mode(CENTER)\n",
    "\n",
    "    stroke_weight(5)\n",
    "    fill(xkcd_colors.GREEN)\n",
    "    stroke(css4_colors.BLUE)\n",
    "\n",
    "\n",
    "def draw():\n",
    "    rect(mouse_x, mouse_y, 50, 50)\n",
    "\n",
    "\n",
    "def mouse_pressed():\n",
    "    fill(random(255), random(255), random(255))\n",
    "\n",
    "\n",
    "def key_pressed():\n",
    "    background(250, 250, 150)"
   ]
  },
  {
   "cell_type": "code",
   "execution_count": null,
   "id": "c34b65d3-5c39-47af-a2ba-e01245b50696",
   "metadata": {},
   "outputs": [],
   "source": [
    "run_sketch()"
   ]
  },
  {
   "cell_type": "markdown",
   "id": "0ebb4267-8a03-4094-8610-d347c25d74fe",
   "metadata": {},
   "source": [
    "# Summary\n",
    "\n",
    "* py5 can let you create animated sketch using a programming mode called \"imported mode\". There is an implied `from py5 import *`.\n",
    "* Imported mode sketches are executed in the py5 Jupyter kernel or Thonny with the py5 plugin.\n",
    "* again, py5 lets you focus your thoughts on your creative ideas without getting bogged down by implementation details."
   ]
  },
  {
   "cell_type": "code",
   "execution_count": null,
   "id": "6fe15410-66c5-449d-af85-cef84c98862d",
   "metadata": {},
   "outputs": [],
   "source": []
  }
 ],
 "metadata": {
  "kernelspec": {
   "display_name": "py5",
   "language": "python",
   "name": "py5"
  },
  "language_info": {
   "codemirror_mode": {
    "name": "ipython",
    "version": 3
   },
   "file_extension": ".py",
   "mimetype": "text/x-python",
   "name": "python",
   "nbconvert_exporter": "python",
   "pygments_lexer": "ipython3",
   "version": "3.8.17"
  }
 },
 "nbformat": 4,
 "nbformat_minor": 5
}
