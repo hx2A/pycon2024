{
 "cells": [
  {
   "cell_type": "markdown",
   "id": "c67ff629-4207-4ea4-a8be-31d2b2a97bff",
   "metadata": {},
   "source": [
    "# py5 and Trimesh\n",
    "\n",
    "* Load 3D Trimesh models and use them in py5"
   ]
  },
  {
   "cell_type": "code",
   "execution_count": null,
   "id": "aee4e10f-c857-431b-a882-67decc6da367",
   "metadata": {},
   "outputs": [],
   "source": [
    "# the following code is necessary for MacOS users\n",
    "import sys\n",
    "\n",
    "if sys.platform == 'darwin':\n",
    "    # Equivalent to `%gui osx`\n",
    "    get_ipython().run_line_magic('gui', 'osx')"
   ]
  },
  {
   "cell_type": "code",
   "execution_count": null,
   "id": "92290a35-95fa-4b86-802c-2ceadbdaff91",
   "metadata": {},
   "outputs": [],
   "source": [
    "import py5\n",
    "\n",
    "import trimesh"
   ]
  },
  {
   "cell_type": "markdown",
   "id": "929467f8-60b8-4192-b503-e1846147c839",
   "metadata": {},
   "source": [
    "Load a 3D model with Trimesh.\n",
    "\n",
    "(Strawberry model by @minimoku on turbosquid.com)"
   ]
  },
  {
   "cell_type": "code",
   "execution_count": null,
   "id": "2e0a47e3-6afb-459c-b11a-42956a961fde",
   "metadata": {},
   "outputs": [],
   "source": [
    "strawberry_scene = trimesh.load(\"data/Strawberry_gltf.gltf\")"
   ]
  },
  {
   "cell_type": "markdown",
   "id": "36f7cedb-b8e6-41d5-979f-b4fbc35600a8",
   "metadata": {},
   "source": [
    "Sketch code to view and rotate the 3D model:"
   ]
  },
  {
   "cell_type": "code",
   "execution_count": null,
   "id": "2f4468ac-4864-42a4-b291-60aeb6a82946",
   "metadata": {},
   "outputs": [],
   "source": [
    "y_rot = 0\n",
    "\n",
    "\n",
    "def setup():\n",
    "    global strawberry\n",
    "    py5.size(750, 750, py5.P3D)\n",
    "    # *** convert_shape() convert Trimesh object to py5 object ***\n",
    "    strawberry = py5.convert_shape(strawberry_scene)\n",
    "    strawberry.scale(80)\n",
    "    strawberry.rotate_z(-py5.radians(90))\n",
    "    py5.get_surface().set_always_on_top(True)\n",
    "\n",
    "\n",
    "def draw():\n",
    "    global y_rot\n",
    "    y_rot += 0.5\n",
    "    py5.background(py5.xkcd_colors.YELLOW_TAN)\n",
    "\n",
    "    py5.ambient_light(64, 64, 64)\n",
    "    py5.directional_light(220, 220, 220, 0, -1, -1)\n",
    "\n",
    "    py5.translate(475, 600, 0)\n",
    "    py5.rotate_z(py5.radians(-25))\n",
    "    py5.rotate_x(py5.radians(-25))\n",
    "    py5.rotate_y(py5.radians(y_rot))\n",
    "\n",
    "    py5.shape(strawberry)"
   ]
  },
  {
   "cell_type": "code",
   "execution_count": null,
   "id": "6a31a200-2e8c-4af3-868d-e0ac5b5cf35b",
   "metadata": {},
   "outputs": [],
   "source": [
    "py5.run_sketch()"
   ]
  },
  {
   "cell_type": "markdown",
   "id": "31de949d-5d8d-490f-bf37-2141317e0b93",
   "metadata": {},
   "source": [
    "# Summary\n",
    "\n",
    "* py5 makes it easy to work with Trimesh objects\n",
    "* py5, by itself, would not be able to read glTF files\n",
    "* Also supports Path2D, Path3D, and PointCloud objects\n",
    "* Trimesh's extrude and boolean geometry functionality are super useful when paired with py5"
   ]
  },
  {
   "cell_type": "code",
   "execution_count": null,
   "id": "fe9f4530-333c-418b-b7fc-25874a493e27",
   "metadata": {},
   "outputs": [],
   "source": []
  }
 ],
 "metadata": {
  "kernelspec": {
   "display_name": "Python 3 (ipykernel)",
   "language": "python",
   "name": "python3"
  },
  "language_info": {
   "codemirror_mode": {
    "name": "ipython",
    "version": 3
   },
   "file_extension": ".py",
   "mimetype": "text/x-python",
   "name": "python",
   "nbconvert_exporter": "python",
   "pygments_lexer": "ipython3",
   "version": "3.8.17"
  }
 },
 "nbformat": 4,
 "nbformat_minor": 5
}
