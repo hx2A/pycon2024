{
 "cells": [
  {
   "cell_type": "markdown",
   "id": "e2b1dd43-24f5-4b50-8905-75126313ac9d",
   "metadata": {},
   "source": [
    "# Experiment with Numpy Pixel Arrays\n",
    "\n",
    "* Manipulate pixels using numpy arrays\n",
    "* Array has height, width, and color channel axes"
   ]
  },
  {
   "cell_type": "code",
   "execution_count": null,
   "id": "4749c9c8-a955-4159-ace3-603dc113a0f9",
   "metadata": {},
   "outputs": [],
   "source": [
    "# the following code is necessary for MacOS users\n",
    "import sys\n",
    "\n",
    "if sys.platform == 'darwin':\n",
    "    # Equivalent to `%gui osx`\n",
    "    get_ipython().run_line_magic('gui', 'osx')"
   ]
  },
  {
   "cell_type": "code",
   "execution_count": null,
   "id": "19607fcf-0042-4a23-8361-24ec6437544f",
   "metadata": {},
   "outputs": [],
   "source": [
    "from scipy.ndimage import gaussian_filter\n",
    "\n",
    "import py5"
   ]
  },
  {
   "cell_type": "markdown",
   "id": "3207154b-e69b-4cee-aff2-704d4cccf89c",
   "metadata": {},
   "source": [
    "Sketch code to experiment with gaussian filters."
   ]
  },
  {
   "cell_type": "code",
   "execution_count": null,
   "id": "711996ca-5771-4b12-946e-089b8d3ce711",
   "metadata": {},
   "outputs": [],
   "source": [
    "def setup():\n",
    "    py5.size(750, 750)\n",
    "    py5.background(\"black\")\n",
    "    py5.fill(\"white\")\n",
    "    py5.no_stroke()\n",
    "    py5.get_surface().set_always_on_top(True)\n",
    "\n",
    "\n",
    "def draw():\n",
    "    py5.circle(py5.mouse_x, py5.mouse_y, 40)\n",
    "\n",
    "    if py5.is_mouse_pressed:\n",
    "        py5.load_np_pixels()\n",
    "        # *** pass pixels array through gaussian filter ***\n",
    "        blurred_pixels = gaussian_filter(py5.np_pixels[:, :, 1], 4)\n",
    "        # *** assign new pixels back to original array ***\n",
    "        py5.np_pixels[:] = blurred_pixels[:, :, None]\n",
    "        py5.update_np_pixels()"
   ]
  },
  {
   "cell_type": "code",
   "execution_count": null,
   "id": "cd546947-bcac-40e0-9397-3064aefe4506",
   "metadata": {},
   "outputs": [],
   "source": [
    "py5.run_sketch()"
   ]
  },
  {
   "cell_type": "markdown",
   "id": "7c96ab75-f390-4dfb-98aa-1165728c7874",
   "metadata": {},
   "source": [
    "# Summary\n",
    "\n",
    "* py5 can work with pixels much like numpy, Pillow, scipy, etc\n",
    "* Significantly easier than a 1 dimensional array of integers"
   ]
  },
  {
   "cell_type": "code",
   "execution_count": null,
   "id": "2355ee39-8900-4a02-9b7e-0bd1ee44178e",
   "metadata": {},
   "outputs": [],
   "source": []
  }
 ],
 "metadata": {
  "kernelspec": {
   "display_name": "Python 3 (ipykernel)",
   "language": "python",
   "name": "python3"
  },
  "language_info": {
   "codemirror_mode": {
    "name": "ipython",
    "version": 3
   },
   "file_extension": ".py",
   "mimetype": "text/x-python",
   "name": "python",
   "nbconvert_exporter": "python",
   "pygments_lexer": "ipython3",
   "version": "3.8.17"
  }
 },
 "nbformat": 4,
 "nbformat_minor": 5
}
