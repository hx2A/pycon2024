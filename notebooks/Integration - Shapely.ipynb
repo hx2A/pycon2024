{
 "cells": [
  {
   "cell_type": "markdown",
   "id": "53c9e602-a1df-4dc1-ae86-ce5c95312ec9",
   "metadata": {},
   "source": [
    "# Experiment with Shapely\n",
    "\n",
    "* Explore shapely's boolean operations with py5"
   ]
  },
  {
   "cell_type": "code",
   "execution_count": null,
   "id": "69afb456-e989-47a0-87f2-b87af1dc0fb7",
   "metadata": {},
   "outputs": [],
   "source": [
    "# the following code is necessary for MacOS users\n",
    "import sys\n",
    "\n",
    "if sys.platform == 'darwin':\n",
    "    # Equivalent to `%gui osx`\n",
    "    get_ipython().run_line_magic('gui', 'osx')"
   ]
  },
  {
   "cell_type": "code",
   "execution_count": null,
   "id": "6161b6fb-684b-4a94-91f2-9e3283194eb5",
   "metadata": {},
   "outputs": [],
   "source": [
    "import py5\n",
    "\n",
    "from shapely import affinity, Polygon"
   ]
  },
  {
   "cell_type": "markdown",
   "id": "2fccd003-f8c0-4cdc-93e1-be1c417355b1",
   "metadata": {},
   "source": [
    "First, construct some shapes with shapely"
   ]
  },
  {
   "cell_type": "code",
   "execution_count": null,
   "id": "d7cba539-680a-4080-bb29-8e4e366f79bd",
   "metadata": {},
   "outputs": [],
   "source": [
    "square = Polygon([[100, 100], [100, 650], [650, 650], [650, 100]])\n",
    "\n",
    "square"
   ]
  },
  {
   "cell_type": "code",
   "execution_count": null,
   "id": "657bbba8-e2d4-4c23-80db-ba42e21dec51",
   "metadata": {},
   "outputs": [],
   "source": [
    "rect1 = Polygon([[-150, 50], [-150, -50], [150, -50], [150, 50]])\n",
    "\n",
    "rect2 = Polygon([[50, -150], [-50, -150], [-50, 150], [50, 150]])\n",
    "\n",
    "plus = rect1.union(rect2)\n",
    "\n",
    "plus"
   ]
  },
  {
   "cell_type": "markdown",
   "id": "be707f59-0c6a-4f7a-a2eb-f9f2a1cf9cd4",
   "metadata": {},
   "source": [
    "Sketch code that combines the two shapes and draws them to the screen."
   ]
  },
  {
   "cell_type": "code",
   "execution_count": null,
   "id": "244d8fc8-bf55-4c2c-8814-ba58bbd82dd5",
   "metadata": {},
   "outputs": [],
   "source": [
    "def setup():\n",
    "    py5.size(750, 750, py5.P2D)\n",
    "    py5.fill(\"green\")\n",
    "    py5.stroke_weight(3)\n",
    "    py5.get_surface().set_always_on_top(True)\n",
    "\n",
    "\n",
    "def draw():\n",
    "    py5.background(\"white\")\n",
    "    plus_translated = affinity.translate(plus, py5.mouse_x, py5.mouse_y)\n",
    "    # *** convert shapely object to py5shape object ***\n",
    "    py5.shape(py5.convert_shape(square.symmetric_difference(plus_translated)))"
   ]
  },
  {
   "cell_type": "code",
   "execution_count": null,
   "id": "8431707b-8f30-4a7d-882c-c187947d5b02",
   "metadata": {},
   "outputs": [],
   "source": [
    "py5.run_sketch()"
   ]
  },
  {
   "cell_type": "markdown",
   "id": "490a97cd-d569-4844-8825-575a3e56c4ca",
   "metadata": {},
   "source": [
    "# Summary\n",
    "\n",
    "* py5's support for Shapely objects lets you construct complex 2D shapes\n",
    "* py5 supports all of Shapely's geometry types"
   ]
  },
  {
   "cell_type": "code",
   "execution_count": null,
   "id": "95e77016-62c2-49cc-9ae1-b538c365d338",
   "metadata": {},
   "outputs": [],
   "source": []
  }
 ],
 "metadata": {
  "kernelspec": {
   "display_name": "Python 3 (ipykernel)",
   "language": "python",
   "name": "python3"
  },
  "language_info": {
   "codemirror_mode": {
    "name": "ipython",
    "version": 3
   },
   "file_extension": ".py",
   "mimetype": "text/x-python",
   "name": "python",
   "nbconvert_exporter": "python",
   "pygments_lexer": "ipython3",
   "version": "3.8.17"
  }
 },
 "nbformat": 4,
 "nbformat_minor": 5
}
