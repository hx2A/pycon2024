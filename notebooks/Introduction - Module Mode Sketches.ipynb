{
 "cells": [
  {
   "cell_type": "markdown",
   "id": "ed09b0ee-27b1-4cad-8dd5-fc8aa99dd383",
   "metadata": {},
   "source": [
    "# Create Animations with py5 in a regular Jupyter Notebook\n",
    "\n",
    "We will import py5 like any other library and use it to create our Sketch."
   ]
  },
  {
   "cell_type": "code",
   "execution_count": null,
   "id": "d64f949a-bf5b-4179-bb07-748acf44a6b8",
   "metadata": {},
   "outputs": [],
   "source": [
    "# the following code is necessary for MacOS users\n",
    "import sys\n",
    "\n",
    "if sys.platform == 'darwin':\n",
    "    # Equivalent to `%gui osx`\n",
    "    get_ipython().run_line_magic('gui', 'osx')"
   ]
  },
  {
   "cell_type": "code",
   "execution_count": null,
   "id": "1c472b0e-77cb-42e8-8a21-c7cb6004c28a",
   "metadata": {},
   "outputs": [],
   "source": [
    "import py5"
   ]
  },
  {
   "cell_type": "markdown",
   "id": "475d766d-ef47-441c-bf37-b8f824146c77",
   "metadata": {},
   "source": [
    "Use the Sketch code from our previous example but prefix all of py5's methods or constants with `py5.`."
   ]
  },
  {
   "cell_type": "code",
   "execution_count": null,
   "id": "70bfaffd-9ad2-44e3-abb9-94b82ce139ad",
   "metadata": {},
   "outputs": [],
   "source": [
    "def setup():\n",
    "    py5.size(500, 500, py5.P2D)\n",
    "    py5.background(250, 250, 150)\n",
    "    py5.rect_mode(py5.CENTER)\n",
    "\n",
    "    py5.stroke_weight(5)\n",
    "    py5.fill(py5.xkcd_colors.GREEN)\n",
    "    py5.stroke(py5.css4_colors.BLUE)\n",
    "\n",
    "\n",
    "def draw():\n",
    "    py5.rect(py5.mouse_x, py5.mouse_y, 50, 50)\n",
    "\n",
    "\n",
    "def mouse_pressed():\n",
    "    py5.fill(py5.random(255), py5.random(255), py5.random(255))\n",
    "\n",
    "\n",
    "def key_pressed():\n",
    "    py5.background(250, 250, 150)"
   ]
  },
  {
   "cell_type": "code",
   "execution_count": null,
   "id": "c6d909af-b856-4dca-b44b-aa28e65d571d",
   "metadata": {},
   "outputs": [],
   "source": [
    "py5.run_sketch()"
   ]
  },
  {
   "cell_type": "markdown",
   "id": "4d411a97-7497-4d53-8399-71ffce4cee92",
   "metadata": {},
   "source": [
    "# Summary\n",
    "\n",
    "* This last Sketch demos everything from the first introductory example.\n",
    "* The most common way to use py5 is with a programming mode called \"module mode\". Here, you execute `import py5` along with your other imports.\n",
    "* Possibly more visible noise with `py5.` everywhere, but runs in regular Jupyter kernel or python interpreter.\n",
    "* As always, py5 lets you focus your thoughts on your creative ideas without getting bogged down by implementation details.\n"
   ]
  },
  {
   "cell_type": "code",
   "execution_count": null,
   "id": "da27835f-72bc-410a-8be8-ef5dd732d8fc",
   "metadata": {},
   "outputs": [],
   "source": []
  }
 ],
 "metadata": {
  "kernelspec": {
   "display_name": "Python 3 (ipykernel)",
   "language": "python",
   "name": "python3"
  },
  "language_info": {
   "codemirror_mode": {
    "name": "ipython",
    "version": 3
   },
   "file_extension": ".py",
   "mimetype": "text/x-python",
   "name": "python",
   "nbconvert_exporter": "python",
   "pygments_lexer": "ipython3",
   "version": "3.8.17"
  }
 },
 "nbformat": 4,
 "nbformat_minor": 5
}
